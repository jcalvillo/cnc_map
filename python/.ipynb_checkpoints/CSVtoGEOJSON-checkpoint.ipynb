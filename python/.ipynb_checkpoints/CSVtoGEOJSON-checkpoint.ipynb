{
 "cells": [
  {
   "cell_type": "markdown",
   "metadata": {},
   "source": [
    "# Convert CSV to GeoJSON"
   ]
  },
  {
   "cell_type": "code",
   "execution_count": 31,
   "metadata": {},
   "outputs": [],
   "source": [
    "# Requirements\n",
    "import csv, json\n",
    "from geojson import Feature, FeatureCollection, Point"
   ]
  },
  {
   "cell_type": "code",
   "execution_count": 32,
   "metadata": {},
   "outputs": [],
   "source": [
    "# Converter\n",
    "def CSVtoGEOJSON (myCSV, myGeoJSON='myGeoJSON.json', charset='utf-8'):\n",
    "    '''\n",
    "    Takes a CSV file and converts it to GeoJSON format. Allows for 'charset' argument to set encoding.\n",
    "    Assumes file structure, CSV with headers: place,longitude,latitude\n",
    "    ''' \n",
    "    \n",
    "    # generate GeoJSON format\n",
    "    features = []                                                         # create empty list\n",
    "    with open(myCSV, newline='', encoding=charset) as csvfile:            # open file\n",
    "        reader = csv.reader(csvfile, delimiter=',')                       # read file in line-by-line\n",
    "        next(reader)                                                      # skip header line\n",
    "        for place, longitude, latitude in reader:                         # create dict arrays inside of list\n",
    "            latitude, longitude = map(float, (latitude, longitude))\n",
    "            features.append(\n",
    "                Feature(\n",
    "                    geometry = Point((longitude, latitude)),\n",
    "                    properties = {\n",
    "                        'place': place\n",
    "                    }\n",
    "                )\n",
    "            )   \n",
    "    \n",
    "    # write file\n",
    "    collection = FeatureCollection(features)                              # FeatureCollection function from GeoJSON\n",
    "    with open(myGeoJSON, \"w\") as f:                                       # write file\n",
    "        f.write('%s' % collection)\n",
    "    \n",
    "    # status message\n",
    "    print ()"
   ]
  },
  {
   "cell_type": "code",
   "execution_count": 30,
   "metadata": {},
   "outputs": [],
   "source": [
    "# Run on csv file\n",
    "CSVtoGEOJSON('../assets/MeteorStrikes.csv', '../assets/MeteorStrikes.json', charset=\"iso-8859-1\")"
   ]
  },
  {
   "cell_type": "code",
   "execution_count": 25,
   "metadata": {},
   "outputs": [
    {
     "name": "stdout",
     "output_type": "stream",
     "text": [
      "/Users/jlc/Google Drive/_code/cnc_map/python\r\n"
     ]
    }
   ],
   "source": []
  },
  {
   "cell_type": "code",
   "execution_count": null,
   "metadata": {},
   "outputs": [],
   "source": []
  }
 ],
 "metadata": {
  "kernelspec": {
   "display_name": "Python 3",
   "language": "python",
   "name": "python3"
  },
  "language_info": {
   "codemirror_mode": {
    "name": "ipython",
    "version": 3
   },
   "file_extension": ".py",
   "mimetype": "text/x-python",
   "name": "python",
   "nbconvert_exporter": "python",
   "pygments_lexer": "ipython3",
   "version": "3.6.4"
  }
 },
 "nbformat": 4,
 "nbformat_minor": 2
}
