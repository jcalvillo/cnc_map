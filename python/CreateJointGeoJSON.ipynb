{
 "cells": [
  {
   "cell_type": "markdown",
   "metadata": {},
   "source": [
    "# Create Joint GeoJSON"
   ]
  },
  {
   "cell_type": "markdown",
   "metadata": {},
   "source": [
    "---  \n",
    "##### source tutorial: https://bost.ocks.org/mike/map/  \n",
    "---\n",
    "\n",
    "**You're starting with two files:**\n",
    "* a _shape file_ of the world map\n",
    "* a _csv file_ of your GPS coordinates\n",
    "\n",
    "**We'll have to:**\n",
    "* convert the _shape file_ to a _GeoJSON_ format\n",
    "* convert the _csv file_ to a _GeoJSON_ format\n",
    "* merge the two GeoJSON files into one data file\n",
    "    * we'll merge into a _TopJSON file_ ... which is basically the same but much more compressed\n",
    "    \n",
    "**Note:**\n",
    "* we'll be employing a couple of linux command-line tools here\n",
    "    * ogr2ogr - creates a GeoJSON from shape files\n",
    "    * topojson - creates a topoJSON from GeoJSON files\n",
    "* in python notebooks, you can use \"!\" at the beginng of a command to run it in BASH SHELL\n",
    "---"
   ]
  },
  {
   "cell_type": "markdown",
   "metadata": {},
   "source": [
    "## World Map"
   ]
  },
  {
   "cell_type": "markdown",
   "metadata": {},
   "source": [
    "* change directory to map folder"
   ]
  },
  {
   "cell_type": "code",
   "execution_count": 72,
   "metadata": {},
   "outputs": [
    {
     "name": "stdout",
     "output_type": "stream",
     "text": [
      "/Users/jlc/Google Drive/_code/cnc_map/data/ne_10m_admin_0_map_subunits\n"
     ]
    }
   ],
   "source": [
    "cd \"../data/ne_10m_admin_0_map_subunits\""
   ]
  },
  {
   "cell_type": "markdown",
   "metadata": {},
   "source": [
    "* check working directory"
   ]
  },
  {
   "cell_type": "code",
   "execution_count": 51,
   "metadata": {},
   "outputs": [
    {
     "name": "stdout",
     "output_type": "stream",
     "text": [
      "/Users/jlc/Google Drive/_code/cnc_map/data/ne_10m_admin_0_map_subunits\r\n"
     ]
    }
   ],
   "source": [
    "!pwd"
   ]
  },
  {
   "cell_type": "markdown",
   "metadata": {},
   "source": [
    "* convert shape file to json"
   ]
  },
  {
   "cell_type": "code",
   "execution_count": 52,
   "metadata": {},
   "outputs": [],
   "source": [
    "!ogr2ogr -f GeoJSON worldmap.json \"ne_10m_admin_0_map_subunits.shp\""
   ]
  },
  {
   "cell_type": "markdown",
   "metadata": {},
   "source": [
    "* check that file is present"
   ]
  },
  {
   "cell_type": "code",
   "execution_count": 63,
   "metadata": {},
   "outputs": [
    {
     "name": "stdout",
     "output_type": "stream",
     "text": [
      "worldmap.json\r\n"
     ]
    }
   ],
   "source": [
    "!ls worldmap*"
   ]
  },
  {
   "cell_type": "markdown",
   "metadata": {},
   "source": [
    "* move GeoJSON to common folder"
   ]
  },
  {
   "cell_type": "code",
   "execution_count": 54,
   "metadata": {},
   "outputs": [],
   "source": [
    "!mv worldmap.json \"../worldmap.json\""
   ]
  },
  {
   "cell_type": "markdown",
   "metadata": {},
   "source": [
    "* check moved correctly"
   ]
  },
  {
   "cell_type": "code",
   "execution_count": 82,
   "metadata": {},
   "outputs": [
    {
     "name": "stdout",
     "output_type": "stream",
     "text": [
      "../worldmap.json\r\n"
     ]
    }
   ],
   "source": [
    "!ls ../worldmap.json"
   ]
  },
  {
   "cell_type": "markdown",
   "metadata": {},
   "source": [
    "---  \n",
    "## CSV with Coordinates"
   ]
  },
  {
   "cell_type": "markdown",
   "metadata": {},
   "source": [
    "* change directory to data folder"
   ]
  },
  {
   "cell_type": "code",
   "execution_count": 83,
   "metadata": {
    "scrolled": true
   },
   "outputs": [
    {
     "name": "stdout",
     "output_type": "stream",
     "text": [
      "/Users/jlc/Google Drive/_code/cnc_map/data\n"
     ]
    }
   ],
   "source": [
    "cd \"../\""
   ]
  },
  {
   "cell_type": "markdown",
   "metadata": {},
   "source": [
    "* check working directory"
   ]
  },
  {
   "cell_type": "code",
   "execution_count": 84,
   "metadata": {},
   "outputs": [
    {
     "name": "stdout",
     "output_type": "stream",
     "text": [
      "/Users/jlc/Google Drive/_code/cnc_map/data\r\n"
     ]
    }
   ],
   "source": [
    "!pwd"
   ]
  },
  {
   "cell_type": "markdown",
   "metadata": {},
   "source": [
    "* convert CSV to GeoJSON"
   ]
  },
  {
   "cell_type": "code",
   "execution_count": 57,
   "metadata": {},
   "outputs": [
    {
     "name": "stdout",
     "output_type": "stream",
     "text": [
      "MeteorStrikes.csv    converted to    MeteorStrikes.json\n"
     ]
    }
   ],
   "source": [
    "import csv, json\n",
    "from geojson import Feature, FeatureCollection, Point\n",
    "\n",
    "def CSVtoGEOJSON (myCSV, myGeoJSON='myGeoJSON.json', charset='utf-8'):\n",
    "    '''\n",
    "    Takes a CSV file and converts it to GeoJSON format. Allows for 'charset' argument to set encoding.\n",
    "    Assumes file structure, CSV with headers: place,longitude,latitude\n",
    "    ''' \n",
    "    \n",
    "    # generate GeoJSON format\n",
    "    features = []                                                         # create empty list\n",
    "    with open(myCSV, newline='', encoding=charset) as csvfile:            # open file\n",
    "        reader = csv.reader(csvfile, delimiter=',')                       # read file in line-by-line\n",
    "        next(reader)                                                      # skip header line\n",
    "        for place, longitude, latitude in reader:                         # create dict arrays inside of list\n",
    "            latitude, longitude = map(float, (latitude, longitude))\n",
    "            features.append(\n",
    "                Feature(\n",
    "                    geometry = Point((longitude, latitude)),\n",
    "                    properties = {\n",
    "                        'name': place\n",
    "                    }\n",
    "                )\n",
    "            )   \n",
    "    \n",
    "    # write file\n",
    "    collection = FeatureCollection(features)                              # FeatureCollection function from GeoJSON\n",
    "    with open(myGeoJSON, \"w\") as f:                                       # write file\n",
    "        f.write('%s' % collection)\n",
    "    \n",
    "    # status message\n",
    "    print (myCSV + '    converted to    ' + myGeoJSON)\n",
    "    \n",
    "CSVtoGEOJSON('MeteorStrikes.csv', 'MeteorStrikes.json', charset=\"iso-8859-1\")"
   ]
  },
  {
   "cell_type": "markdown",
   "metadata": {},
   "source": [
    "* check file is present"
   ]
  },
  {
   "cell_type": "code",
   "execution_count": 86,
   "metadata": {},
   "outputs": [
    {
     "name": "stdout",
     "output_type": "stream",
     "text": [
      "MeteorStrikes.json\r\n"
     ]
    }
   ],
   "source": [
    "!ls MeteorStrikes.json"
   ]
  },
  {
   "cell_type": "markdown",
   "metadata": {},
   "source": [
    "--- \n",
    "## Merge"
   ]
  },
  {
   "cell_type": "markdown",
   "metadata": {},
   "source": [
    "* merge"
   ]
  },
  {
   "cell_type": "code",
   "execution_count": 88,
   "metadata": {},
   "outputs": [
    {
     "name": "stdout",
     "output_type": "stream",
     "text": [
      "bounds: -180 -90 180 83.63410065300008 (spherical)\n",
      "pre-quantization: 40.0m (0.000360°) 19.3m (0.000174°)\n",
      "topology: 4676 arcs, 481140 points\n",
      "post-quantization: 4.003km (0.0360°) 1.931km (0.0174°)\n",
      "prune: retained 4264 / 4676 arcs (91%)\n"
     ]
    }
   ],
   "source": [
    "!topojson -o worldmap_and_points.json --id-property SU_A3 --properties -- worldmap.json MeteorStrikes.json"
   ]
  },
  {
   "cell_type": "markdown",
   "metadata": {},
   "source": [
    "* check file is present"
   ]
  },
  {
   "cell_type": "code",
   "execution_count": 89,
   "metadata": {},
   "outputs": [
    {
     "name": "stdout",
     "output_type": "stream",
     "text": [
      "worldmap.json            worldmap_and_points.json\r\n"
     ]
    }
   ],
   "source": [
    "!ls worldmap*"
   ]
  }
 ],
 "metadata": {
  "kernelspec": {
   "display_name": "Python 3",
   "language": "python",
   "name": "python3"
  },
  "language_info": {
   "codemirror_mode": {
    "name": "ipython",
    "version": 3
   },
   "file_extension": ".py",
   "mimetype": "text/x-python",
   "name": "python",
   "nbconvert_exporter": "python",
   "pygments_lexer": "ipython3",
   "version": "3.6.4"
  }
 },
 "nbformat": 4,
 "nbformat_minor": 2
}
