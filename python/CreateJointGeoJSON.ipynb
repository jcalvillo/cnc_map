{
 "cells": [
  {
   "cell_type": "markdown",
   "metadata": {},
   "source": [
    "# Create Joint GeoJSON"
   ]
  },
  {
   "cell_type": "markdown",
   "metadata": {},
   "source": [
    "---  \n",
    "##### source tutorial: https://bost.ocks.org/mike/map/  \n",
    "---\n",
    "\n",
    "**You're starting with two files:**\n",
    "* a _shape file_ of the world map\n",
    "* a _csv file_ of your GPS coordinates\n",
    "\n",
    "**We'll have to:**\n",
    "* convert the _shape file_ to a _GeoJSON_ format\n",
    "* convert the _csv file_ to a _GeoJSON_ format\n",
    "* merge the two GeoJSON files into one data file\n",
    "    * we'll merge into a _TopJSON file_ ... which is basically the same but much more compressed\n",
    "    \n",
    "**Note:**\n",
    "* we'll be employing a couple of linux command-line tools here\n",
    "    * ogr2ogr - creates a GeoJSON from shape files\n",
    "    * topojson - creates a topoJSON from GeoJSON files\n",
    "* in python notebooks, you can use \"!\" at the beginng of a command to run it in BASH SHELL\n",
    "---"
   ]
  },
  {
   "cell_type": "markdown",
   "metadata": {},
   "source": [
    "## World Map"
   ]
  },
  {
   "cell_type": "markdown",
   "metadata": {},
   "source": [
    "* change directory to map folder"
   ]
  },
  {
   "cell_type": "code",
   "execution_count": 91,
   "metadata": {},
   "outputs": [
    {
     "name": "stdout",
     "output_type": "stream",
     "text": [
      "/Users/jlc/Google Drive/_code/cnc_map/data/ne_10m_admin_0_map_subunits\n"
     ]
    }
   ],
   "source": [
    "cd \"../data/ne_10m_admin_0_map_subunits\""
   ]
  },
  {
   "cell_type": "markdown",
   "metadata": {},
   "source": [
    "* check working directory"
   ]
  },
  {
   "cell_type": "code",
   "execution_count": 92,
   "metadata": {},
   "outputs": [
    {
     "name": "stdout",
     "output_type": "stream",
     "text": [
      "/Users/jlc/Google Drive/_code/cnc_map/data/ne_10m_admin_0_map_subunits\r\n"
     ]
    }
   ],
   "source": [
    "!pwd"
   ]
  },
  {
   "cell_type": "markdown",
   "metadata": {},
   "source": [
    "* convert shape file to json"
   ]
  },
  {
   "cell_type": "code",
   "execution_count": 93,
   "metadata": {},
   "outputs": [],
   "source": [
    "!ogr2ogr -f GeoJSON subunits.json \"ne_10m_admin_0_map_subunits.shp\""
   ]
  },
  {
   "cell_type": "markdown",
   "metadata": {},
   "source": [
    "* check that file is present"
   ]
  },
  {
   "cell_type": "code",
   "execution_count": 94,
   "metadata": {},
   "outputs": [
    {
     "name": "stdout",
     "output_type": "stream",
     "text": [
      "subunits.json\r\n"
     ]
    }
   ],
   "source": [
    "!ls subunits*"
   ]
  },
  {
   "cell_type": "markdown",
   "metadata": {},
   "source": [
    "* move GeoJSON to common folder"
   ]
  },
  {
   "cell_type": "code",
   "execution_count": 95,
   "metadata": {},
   "outputs": [],
   "source": [
    "!mv subunits.json \"../subunits.json\""
   ]
  },
  {
   "cell_type": "markdown",
   "metadata": {},
   "source": [
    "* check moved correctly"
   ]
  },
  {
   "cell_type": "code",
   "execution_count": 96,
   "metadata": {},
   "outputs": [
    {
     "name": "stdout",
     "output_type": "stream",
     "text": [
      "../subunits.json\r\n"
     ]
    }
   ],
   "source": [
    "!ls ../subunits.json"
   ]
  },
  {
   "cell_type": "markdown",
   "metadata": {},
   "source": [
    "---  \n",
    "## CSV with Coordinates"
   ]
  },
  {
   "cell_type": "markdown",
   "metadata": {},
   "source": [
    "* change directory to data folder"
   ]
  },
  {
   "cell_type": "code",
   "execution_count": 107,
   "metadata": {
    "scrolled": true
   },
   "outputs": [
    {
     "name": "stdout",
     "output_type": "stream",
     "text": [
      "/Users/jlc/Google Drive/_code/cnc_map/data/meteorstrikes\n"
     ]
    }
   ],
   "source": [
    "cd \"../data/meteorstrikes\""
   ]
  },
  {
   "cell_type": "markdown",
   "metadata": {},
   "source": [
    "* check working directory"
   ]
  },
  {
   "cell_type": "code",
   "execution_count": 108,
   "metadata": {},
   "outputs": [
    {
     "name": "stdout",
     "output_type": "stream",
     "text": [
      "/Users/jlc/Google Drive/_code/cnc_map/data/meteorstrikes\r\n"
     ]
    }
   ],
   "source": [
    "!pwd"
   ]
  },
  {
   "cell_type": "markdown",
   "metadata": {},
   "source": [
    "* convert CSV to GeoJSON"
   ]
  },
  {
   "cell_type": "code",
   "execution_count": 99,
   "metadata": {},
   "outputs": [
    {
     "name": "stdout",
     "output_type": "stream",
     "text": [
      "MeteorStrikes.csv    converted to    places.json\n"
     ]
    }
   ],
   "source": [
    "# requirements\n",
    "import csv, json\n",
    "from geojson import Feature, FeatureCollection, Point\n",
    "\n",
    "# define function\n",
    "def CSVtoGEOJSON (myCSV, myGeoJSON='myGeoJSON.json', charset='utf-8'):\n",
    "    '''\n",
    "    Takes a CSV file and converts it to GeoJSON format. Allows for 'charset' argument to set encoding.\n",
    "    Assumes file structure, CSV with headers: place,longitude,latitude\n",
    "    ''' \n",
    "    \n",
    "    # generate GeoJSON format\n",
    "    features = []                                                         # create empty list\n",
    "    with open(myCSV, newline='', encoding=charset) as csvfile:            # open file\n",
    "        reader = csv.reader(csvfile, delimiter=',')                       # read file in line-by-line\n",
    "        next(reader)                                                      # skip header line\n",
    "        for place, longitude, latitude in reader:                         # create dict arrays inside of list\n",
    "            latitude, longitude = map(float, (latitude, longitude))\n",
    "            features.append(\n",
    "                Feature(\n",
    "                    geometry = Point((longitude, latitude)),\n",
    "                    properties = {\n",
    "                        'name': place\n",
    "                    }\n",
    "                )\n",
    "            )   \n",
    "    \n",
    "    # write file\n",
    "    collection = FeatureCollection(features)                              # FeatureCollection function from GeoJSON\n",
    "    with open(myGeoJSON, \"w\") as f:                                       # write file\n",
    "        f.write('%s' % collection)\n",
    "    \n",
    "    # status message\n",
    "    print (myCSV + '    converted to    ' + myGeoJSON)\n",
    "\n",
    "# run on file\n",
    "CSVtoGEOJSON('MeteorStrikes.csv', 'places.json', charset=\"iso-8859-1\")"
   ]
  },
  {
   "cell_type": "markdown",
   "metadata": {},
   "source": [
    "* move file to common folder"
   ]
  },
  {
   "cell_type": "code",
   "execution_count": null,
   "metadata": {},
   "outputs": [],
   "source": [
    "!mv places.json \"../places.json\""
   ]
  },
  {
   "cell_type": "markdown",
   "metadata": {},
   "source": [
    "* check file is present"
   ]
  },
  {
   "cell_type": "code",
   "execution_count": 110,
   "metadata": {},
   "outputs": [
    {
     "name": "stdout",
     "output_type": "stream",
     "text": [
      "../places.json\r\n"
     ]
    }
   ],
   "source": [
    "!ls ../places.json"
   ]
  },
  {
   "cell_type": "markdown",
   "metadata": {},
   "source": [
    "--- \n",
    "## Merge"
   ]
  },
  {
   "cell_type": "markdown",
   "metadata": {},
   "source": [
    "* change pwd to common folder /data"
   ]
  },
  {
   "cell_type": "code",
   "execution_count": 111,
   "metadata": {
    "scrolled": true
   },
   "outputs": [
    {
     "name": "stdout",
     "output_type": "stream",
     "text": [
      "/Users/jlc/Google Drive/_code/cnc_map/data\n"
     ]
    }
   ],
   "source": [
    "cd \"../\""
   ]
  },
  {
   "cell_type": "markdown",
   "metadata": {},
   "source": [
    "* check working directory"
   ]
  },
  {
   "cell_type": "code",
   "execution_count": 112,
   "metadata": {},
   "outputs": [
    {
     "name": "stdout",
     "output_type": "stream",
     "text": [
      "/Users/jlc/Google Drive/_code/cnc_map/data\r\n"
     ]
    }
   ],
   "source": [
    "!pwd"
   ]
  },
  {
   "cell_type": "markdown",
   "metadata": {},
   "source": [
    "* merge"
   ]
  },
  {
   "cell_type": "code",
   "execution_count": 101,
   "metadata": {},
   "outputs": [
    {
     "name": "stdout",
     "output_type": "stream",
     "text": [
      "bounds: -180 -90 180 83.63410065300008 (spherical)\n",
      "pre-quantization: 40.0m (0.000360°) 19.3m (0.000174°)\n",
      "topology: 4676 arcs, 481140 points\n",
      "post-quantization: 4.003km (0.0360°) 1.931km (0.0174°)\n",
      "prune: retained 4264 / 4676 arcs (91%)\n"
     ]
    }
   ],
   "source": [
    "!topojson -o world_places.json --id-property SU_A3 --properties -- subunits.json places.json"
   ]
  },
  {
   "cell_type": "markdown",
   "metadata": {},
   "source": [
    "* check file is present"
   ]
  },
  {
   "cell_type": "code",
   "execution_count": 102,
   "metadata": {},
   "outputs": [
    {
     "name": "stdout",
     "output_type": "stream",
     "text": [
      "world_places.json\r\n"
     ]
    }
   ],
   "source": [
    "!ls world_places*"
   ]
  },
  {
   "cell_type": "markdown",
   "metadata": {},
   "source": [
    "---\n",
    "## Cleanup"
   ]
  },
  {
   "cell_type": "code",
   "execution_count": 119,
   "metadata": {},
   "outputs": [
    {
     "name": "stdout",
     "output_type": "stream",
     "text": [
      "rm: subunits.json: No such file or directory\r\n"
     ]
    }
   ],
   "source": [
    "!rm subunits.json"
   ]
  },
  {
   "cell_type": "code",
   "execution_count": 120,
   "metadata": {},
   "outputs": [
    {
     "name": "stdout",
     "output_type": "stream",
     "text": [
      "rm: places.json: No such file or directory\r\n"
     ]
    }
   ],
   "source": [
    "!rm places.json"
   ]
  },
  {
   "cell_type": "code",
   "execution_count": null,
   "metadata": {},
   "outputs": [],
   "source": []
  }
 ],
 "metadata": {
  "kernelspec": {
   "display_name": "Python 3",
   "language": "python",
   "name": "python3"
  },
  "language_info": {
   "codemirror_mode": {
    "name": "ipython",
    "version": 3
   },
   "file_extension": ".py",
   "mimetype": "text/x-python",
   "name": "python",
   "nbconvert_exporter": "python",
   "pygments_lexer": "ipython3",
   "version": "3.6.4"
  }
 },
 "nbformat": 4,
 "nbformat_minor": 2
}
